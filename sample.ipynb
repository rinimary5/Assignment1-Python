{
 "cells": [
  {
   "metadata": {},
   "cell_type": "markdown",
   "source": [
    "# This is a sample Jupyter Notebook\n",
    "\n",
    "Below is an example of a code cell. \n",
    "Put your cursor into the cell and press Shift+Enter to execute it and select the next one, or click 'Run Cell' button.\n",
    "\n",
    "Press Double Shift to search everywhere for classes, files, tool windows, actions, and settings.\n",
    "\n",
    "To learn more about Jupyter Notebooks in PyCharm, see [help](https://www.jetbrains.com/help/pycharm/ipython-notebook-support.html).\n",
    "For an overview of PyCharm, go to Help -> Learn IDE features or refer to [our documentation](https://www.jetbrains.com/help/pycharm/getting-started.html)."
   ],
   "id": "8a77807f92f26ee"
  },
  {
   "metadata": {
    "ExecuteTime": {
     "end_time": "2024-12-13T18:04:14.750473Z",
     "start_time": "2024-12-13T18:04:14.200655Z"
    }
   },
   "cell_type": "code",
   "source": [
    "import json\n",
    "import pandas as pd\n",
    "#Reading the employee data json file\n",
    "with open(\"employee_data.json\",'r')as f:\n",
    "    jsonData = json.load(f)\n",
    "print(type(jsonData))\n",
    "print(jsonData)"
   ],
   "id": "fbc121e30a2defb3",
   "outputs": [
    {
     "name": "stdout",
     "output_type": "stream",
     "text": [
      "<class 'list'>\n",
      "[{'id': 1, 'name': 'Aadhil', 'department': 'HR', 'salary': 60000}, {'id': 2, 'name': 'Aaryan', 'department': 'Engineering', 'salary': 75000}, {'id': 3, 'name': 'Navilan', 'department': 'HR', 'salary': 62000}, {'id': 4, 'name': 'Sarvesh', 'department': 'Sales', 'salary': 58000}, {'id': 5, 'name': 'Sabari', 'department': 'Engineering', 'salary': 80000}]\n"
     ]
    }
   ],
   "execution_count": 7
  },
  {
   "metadata": {
    "ExecuteTime": {
     "end_time": "2024-12-13T18:04:18.553705Z",
     "start_time": "2024-12-13T18:04:18.539950Z"
    }
   },
   "cell_type": "code",
   "source": [
    "#COnverting the json file read data into dataframe\n",
    "df=pd.DataFrame(jsonData)"
   ],
   "id": "3bc42719c5ddd38e",
   "outputs": [],
   "execution_count": 8
  },
  {
   "metadata": {
    "ExecuteTime": {
     "end_time": "2024-12-13T18:04:26.521199Z",
     "start_time": "2024-12-13T18:04:26.489477Z"
    }
   },
   "cell_type": "code",
   "source": "df",
   "id": "1453bb10058c1306",
   "outputs": [
    {
     "data": {
      "text/plain": [
       "   id     name   department  salary\n",
       "0   1   Aadhil           HR   60000\n",
       "1   2   Aaryan  Engineering   75000\n",
       "2   3  Navilan           HR   62000\n",
       "3   4  Sarvesh        Sales   58000\n",
       "4   5   Sabari  Engineering   80000"
      ],
      "text/html": [
       "<div>\n",
       "<style scoped>\n",
       "    .dataframe tbody tr th:only-of-type {\n",
       "        vertical-align: middle;\n",
       "    }\n",
       "\n",
       "    .dataframe tbody tr th {\n",
       "        vertical-align: top;\n",
       "    }\n",
       "\n",
       "    .dataframe thead th {\n",
       "        text-align: right;\n",
       "    }\n",
       "</style>\n",
       "<table border=\"1\" class=\"dataframe\">\n",
       "  <thead>\n",
       "    <tr style=\"text-align: right;\">\n",
       "      <th></th>\n",
       "      <th>id</th>\n",
       "      <th>name</th>\n",
       "      <th>department</th>\n",
       "      <th>salary</th>\n",
       "    </tr>\n",
       "  </thead>\n",
       "  <tbody>\n",
       "    <tr>\n",
       "      <th>0</th>\n",
       "      <td>1</td>\n",
       "      <td>Aadhil</td>\n",
       "      <td>HR</td>\n",
       "      <td>60000</td>\n",
       "    </tr>\n",
       "    <tr>\n",
       "      <th>1</th>\n",
       "      <td>2</td>\n",
       "      <td>Aaryan</td>\n",
       "      <td>Engineering</td>\n",
       "      <td>75000</td>\n",
       "    </tr>\n",
       "    <tr>\n",
       "      <th>2</th>\n",
       "      <td>3</td>\n",
       "      <td>Navilan</td>\n",
       "      <td>HR</td>\n",
       "      <td>62000</td>\n",
       "    </tr>\n",
       "    <tr>\n",
       "      <th>3</th>\n",
       "      <td>4</td>\n",
       "      <td>Sarvesh</td>\n",
       "      <td>Sales</td>\n",
       "      <td>58000</td>\n",
       "    </tr>\n",
       "    <tr>\n",
       "      <th>4</th>\n",
       "      <td>5</td>\n",
       "      <td>Sabari</td>\n",
       "      <td>Engineering</td>\n",
       "      <td>80000</td>\n",
       "    </tr>\n",
       "  </tbody>\n",
       "</table>\n",
       "</div>"
      ]
     },
     "execution_count": 9,
     "metadata": {},
     "output_type": "execute_result"
    }
   ],
   "execution_count": 9
  },
  {
   "metadata": {
    "ExecuteTime": {
     "end_time": "2024-12-13T18:12:53.439275Z",
     "start_time": "2024-12-13T18:12:53.422286Z"
    }
   },
   "cell_type": "code",
   "source": [
    "#Creating a list for storing unique department name\n",
    "dept=list(df['department'].unique())\n",
    "print(dept)"
   ],
   "id": "e3ca90e6b44f82d8",
   "outputs": [
    {
     "name": "stdout",
     "output_type": "stream",
     "text": [
      "['HR', 'Engineering', 'Sales']\n"
     ]
    }
   ],
   "execution_count": 13
  },
  {
   "metadata": {
    "ExecuteTime": {
     "end_time": "2024-12-13T18:23:36.311086Z",
     "start_time": "2024-12-13T18:23:36.298238Z"
    }
   },
   "cell_type": "code",
   "source": [
    "#Calculating the average salary of each department and storing it in dictionary\n",
    "dict_avg={}\n",
    "for i in dept:\n",
    "    avg=int(df.loc[df['department']==i,'salary'].mean())\n",
    "    dict_avg[i]=avg\n",
    "print(dict_avg)\n"
   ],
   "id": "f3a11934cf0c4348",
   "outputs": [
    {
     "name": "stdout",
     "output_type": "stream",
     "text": [
      "{'HR': 61000, 'Engineering': 77500, 'Sales': 58000}\n"
     ]
    }
   ],
   "execution_count": 17
  },
  {
   "metadata": {
    "ExecuteTime": {
     "end_time": "2024-12-13T18:27:20.727969Z",
     "start_time": "2024-12-13T18:27:20.714920Z"
    }
   },
   "cell_type": "code",
   "source": [
    "#Writing the average salary details into salary summary json file\n",
    "with open(\"salary_summary.json\",'w')as fout:\n",
    "    json.dump(dict_avg,fout)"
   ],
   "id": "a7b6b6c0075752ce",
   "outputs": [],
   "execution_count": 19
  },
  {
   "metadata": {
    "ExecuteTime": {
     "end_time": "2024-12-13T18:36:53.869477Z",
     "start_time": "2024-12-13T18:36:53.850608Z"
    }
   },
   "cell_type": "code",
   "source": [
    "#Printing the details of the employee with the highest salary\n",
    "print(df.iloc[df['salary'].idxmax(),1:4])"
   ],
   "id": "256ac4d909afec96",
   "outputs": [
    {
     "data": {
      "text/plain": [
       "name               Sabari\n",
       "department    Engineering\n",
       "salary              80000\n",
       "Name: 4, dtype: object"
      ]
     },
     "execution_count": 22,
     "metadata": {},
     "output_type": "execute_result"
    }
   ],
   "execution_count": 22
  }
 ],
 "metadata": {
  "kernelspec": {
   "display_name": "Python 3",
   "language": "python",
   "name": "python3"
  },
  "language_info": {
   "codemirror_mode": {
    "name": "ipython",
    "version": 2
   },
   "file_extension": ".py",
   "mimetype": "text/x-python",
   "name": "python",
   "nbconvert_exporter": "python",
   "pygments_lexer": "ipython2",
   "version": "2.7.6"
  }
 },
 "nbformat": 4,
 "nbformat_minor": 5
}
